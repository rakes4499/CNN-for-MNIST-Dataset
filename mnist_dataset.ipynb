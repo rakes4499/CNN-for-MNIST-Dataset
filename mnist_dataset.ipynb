{
 "cells": [
  {
   "cell_type": "code",
   "execution_count": 1,
   "metadata": {},
   "outputs": [
    {
     "ename": "SyntaxError",
     "evalue": "invalid syntax (<ipython-input-1-26883c040288>, line 30)",
     "output_type": "error",
     "traceback": [
      "\u001b[0;36m  File \u001b[0;32m\"<ipython-input-1-26883c040288>\"\u001b[0;36m, line \u001b[0;32m30\u001b[0m\n\u001b[0;31m    b_fc2 = tf.Variable(tf.constant(0.1, shape=[10]))fc = tf.matmul(layer_drop, W_fc2) + b_fc2y_cnn = tf.nn.softmax(fc)\u001b[0m\n\u001b[0m                                                      ^\u001b[0m\n\u001b[0;31mSyntaxError\u001b[0m\u001b[0;31m:\u001b[0m invalid syntax\n"
     ]
    }
   ],
   "source": [
    "import tensorflow as tf\n",
    "from tensorflow.examples.tutorials.mnist import input_data\n",
    "mnist = input_data.read_data_sets(\"MNIST_data\", one_hot=True)\n",
    "sess = tf.InteractiveSession()\n",
    "#setting up the variables\n",
    "width = 28\n",
    "height = 28\n",
    "flat = width * height\n",
    "class_output = 10\n",
    "# Input and output\n",
    "x = tf.placeholder(tf.float32 , shape=[None,flat])\n",
    "y_ = tf.placeholder(tf.float32 , shape=[None,class_output])\n",
    "x_image = tf.reshape(x,[-1,28,28,1])\n",
    "# adding the layer 1(convolutional layer 1)\n",
    "w_conv1 = tf.Variable(tf.truncated_normal([5,5,1,32], stddev=0.1))\n",
    "b_conv1 = tf.Variable(tf.constant(0.1, shape=[32]))\n",
    "convolve1 = tf.nn.conv2d(x_image, w_conv1, strides=[1,1,1,1], padding = 'SAME') + b_conv1\n",
    "h_conv1 = tf.nn.relu(convolve1)\n",
    "conv1 = tf.nn.max_pool(h_conv1, ksize=[1,2,2,1], strides=[1,2,2,1], padding='SAME')\n",
    "# adding the layer 2(convolutional layer 2)\n",
    "w_conv2 = tf.Variable(tf.truncated_normal([5,5,32,64], stddev=0.1))\n",
    "b_conv2 = tf.Variable(tf.constant(0.1,shape=[64]))\n",
    "convolve2 = tf.nn.conv2d(conv1, w_conv2, strides=[1,1,1,1], padding='SAME')\n",
    "h_conv2 = tf.nn.relu(convolve2)\n",
    "conv2 = tf.nn.max_pool(h_conv2, ksize=[1,2,2,1], strides=[1,2,2,1], padding='SAME')\n",
    "layer2_matrix = tf.reshape(conv2,[-1,7*7*64])\n",
    "# adding the layer 3(fully connected layer)\n",
    "w_fc1 = tf.Variable(tf.truncated_normal([7*7*64,1024], stddev=0.1))\n",
    "b_fc1 = tf.Variable(tf.constant(0.1,shape=[1024]))\n",
    "fc1 = tf.matmul(layer2_matrix, w_fc1) + b_fc1\n",
    "h_fc1=tf.nn.relu(fc1)\n",
    "keep_probe = tf.placeholder(tf.float32)\n",
    "layer_drop = tf.nn.dropout(h_fc1,keep_probe)\n",
    "# applying the layer 4(fully connected layer)\n",
    "W_fc2 = tf.Variable(tf.truncated_normal([1024, 10], stddev=0.1))\n",
    "b_fc2 = tf.Variable(tf.constant(0.1, shape=[10]))fc = tf.matmul(layer_drop, W_fc2) + b_fc2y_cnn = tf.nn.softmax(fc)\n",
    "y_cnn\n",
    "# Define function and train the model\n",
    "cross_entropy = tf.reduce_mean(-tf.reduce_sum(y_ * tf.log(y_cnn), reduction_indices=[1]))\n",
    "train_step = tf.train.AdamOptimizer(1e-4).minimize(cross_entropy)\n",
    "correct_prediction = tf.equal(tf.argmax(y_cnn, 1), tf.argmax(y_, 1))\n",
    "accuracy = tf.reduce_mean(tf.cast(correct_prediction, tf.float32))\n",
    "sess.run(tf.global_variables_initializer())\n",
    "# checking the training accuracy of model\n",
    "for i in range(400):\n",
    "    batch = mnist.train.next_batch(50)\n",
    "    if i%10 == 0:\n",
    "        train_accuracy = accuracy.eval(feed_dict={x:batch[0], y_:batch[1], keep_probe : 1.0})\n",
    "        print(\"step %d,training accuracy %g\" %(i,float(train_accuracy)))\n",
    "    train_step.run(feed_dict={x: batch[0], y_: batch[1], keep_probe : 0.5})\n",
    "# checking the prediction accuracy\n",
    "n_batches = mnist.test.images.shape[0]\n",
    "cumulative_accuracy = 0.0\n",
    "for index in range(n_batches):\n",
    "    batch = mnist.test.next_batch(50)\n",
    "    cumulative_accuracy += accuracy.eval(feed_dict={x: batch[0], y_: batch[1], keep_probe: 1.0})\n",
    "print(\"test accuracy {}\".format(cumulative_accuracy / n_batches))"
   ]
  }
 ],
 "metadata": {
  "kernelspec": {
   "display_name": "Python 3",
   "language": "python",
   "name": "python3"
  },
  "language_info": {
   "codemirror_mode": {
    "name": "ipython",
    "version": 3
   },
   "file_extension": ".py",
   "mimetype": "text/x-python",
   "name": "python",
   "nbconvert_exporter": "python",
   "pygments_lexer": "ipython3",
   "version": "3.6.5"
  }
 },
 "nbformat": 4,
 "nbformat_minor": 2
}
